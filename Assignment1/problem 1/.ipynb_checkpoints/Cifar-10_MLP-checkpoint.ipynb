{
 "cells": [
  {
   "cell_type": "code",
   "execution_count": 1,
   "metadata": {
    "colab": {},
    "colab_type": "code",
    "id": "sgVnZog7i0BZ"
   },
   "outputs": [
    {
     "ename": "ModuleNotFoundError",
     "evalue": "No module named 'keras'",
     "output_type": "error",
     "traceback": [
      "\u001b[1;31m---------------------------------------------------------------------------\u001b[0m",
      "\u001b[1;31mModuleNotFoundError\u001b[0m                       Traceback (most recent call last)",
      "\u001b[1;32m<ipython-input-1-dc4848ac9d2c>\u001b[0m in \u001b[0;36m<module>\u001b[1;34m()\u001b[0m\n\u001b[0;32m      1\u001b[0m \u001b[1;32mfrom\u001b[0m \u001b[0m__future__\u001b[0m \u001b[1;32mimport\u001b[0m \u001b[0mprint_function\u001b[0m\u001b[1;33m\u001b[0m\u001b[0m\n\u001b[0;32m      2\u001b[0m \u001b[1;33m\u001b[0m\u001b[0m\n\u001b[1;32m----> 3\u001b[1;33m \u001b[1;32mimport\u001b[0m \u001b[0mkeras\u001b[0m\u001b[1;33m\u001b[0m\u001b[0m\n\u001b[0m\u001b[0;32m      4\u001b[0m \u001b[1;32mfrom\u001b[0m \u001b[0mkeras\u001b[0m\u001b[1;33m.\u001b[0m\u001b[0mdatasets\u001b[0m \u001b[1;32mimport\u001b[0m \u001b[0mcifar10\u001b[0m\u001b[1;33m\u001b[0m\u001b[0m\n\u001b[0;32m      5\u001b[0m \u001b[1;32mfrom\u001b[0m \u001b[0mkeras\u001b[0m\u001b[1;33m.\u001b[0m\u001b[0mmodels\u001b[0m \u001b[1;32mimport\u001b[0m \u001b[0mSequential\u001b[0m\u001b[1;33m\u001b[0m\u001b[0m\n",
      "\u001b[1;31mModuleNotFoundError\u001b[0m: No module named 'keras'"
     ]
    }
   ],
   "source": [
    "from __future__ import print_function\n",
    "\n",
    "import keras\n",
    "from keras.datasets import cifar10\n",
    "from keras.models import Sequential\n",
    "from keras.layers import Dense, Dropout\n",
    "from keras.optimizers import RMSprop"
   ]
  },
  {
   "cell_type": "code",
   "execution_count": 0,
   "metadata": {
    "colab": {},
    "colab_type": "code",
    "id": "9siECXhPnHoi"
   },
   "outputs": [],
   "source": [
    "def unpickle(file):\n",
    "    import pickle\n",
    "    with open(file, 'rb') as fo:\n",
    "        dict = pickle.load(fo, encoding='bytes')\n",
    "    return dict"
   ]
  },
  {
   "cell_type": "code",
   "execution_count": 25,
   "metadata": {
    "colab": {
     "base_uri": "https://localhost:8080/",
     "height": 350
    },
    "colab_type": "code",
    "executionInfo": {
     "elapsed": 337,
     "status": "error",
     "timestamp": 1548883740010,
     "user": {
      "displayName": "Yuchen He",
      "photoUrl": "",
      "userId": "17836836288676257850"
     },
     "user_tz": 300
    },
    "id": "OAjF3s_Wn-GQ",
    "outputId": "8c74b65c-1044-4f89-cbc4-3d5a637a2d19"
   },
   "outputs": [
    {
     "ename": "FileNotFoundError",
     "evalue": "ignored",
     "output_type": "error",
     "traceback": [
      "\u001b[0;31m---------------------------------------------------------------------------\u001b[0m",
      "\u001b[0;31mFileNotFoundError\u001b[0m                         Traceback (most recent call last)",
      "\u001b[0;32m<ipython-input-25-5754e7bd77d1>\u001b[0m in \u001b[0;36m<module>\u001b[0;34m()\u001b[0m\n\u001b[0;32m----> 1\u001b[0;31m \u001b[0mbatch1\u001b[0m\u001b[0;34m=\u001b[0m\u001b[0munpickle\u001b[0m\u001b[0;34m(\u001b[0m\u001b[0;34m'Colab Notebooks/cifar-10-batches-py/data_batch_1'\u001b[0m\u001b[0;34m)\u001b[0m\u001b[0;34m\u001b[0m\u001b[0;34m\u001b[0m\u001b[0m\n\u001b[0m\u001b[1;32m      2\u001b[0m \u001b[0mbatch2\u001b[0m\u001b[0;34m=\u001b[0m\u001b[0munpickle\u001b[0m\u001b[0;34m(\u001b[0m\u001b[0;34m'cifar-10-batches-py/data_batch_2'\u001b[0m\u001b[0;34m)\u001b[0m\u001b[0;34m\u001b[0m\u001b[0;34m\u001b[0m\u001b[0m\n\u001b[1;32m      3\u001b[0m \u001b[0mbatch3\u001b[0m\u001b[0;34m=\u001b[0m\u001b[0munpickle\u001b[0m\u001b[0;34m(\u001b[0m\u001b[0;34m'cifar-10-batches-py/data_batch_3'\u001b[0m\u001b[0;34m)\u001b[0m\u001b[0;34m\u001b[0m\u001b[0;34m\u001b[0m\u001b[0m\n\u001b[1;32m      4\u001b[0m \u001b[0mbatch4\u001b[0m\u001b[0;34m=\u001b[0m\u001b[0munpickle\u001b[0m\u001b[0;34m(\u001b[0m\u001b[0;34m'cifar-10-batches-py/data_batch_4'\u001b[0m\u001b[0;34m)\u001b[0m\u001b[0;34m\u001b[0m\u001b[0;34m\u001b[0m\u001b[0m\n\u001b[1;32m      5\u001b[0m \u001b[0mbatch5\u001b[0m\u001b[0;34m=\u001b[0m\u001b[0munpickle\u001b[0m\u001b[0;34m(\u001b[0m\u001b[0;34m'cifar-10-batches-py/data_batch_5'\u001b[0m\u001b[0;34m)\u001b[0m\u001b[0;34m\u001b[0m\u001b[0;34m\u001b[0m\u001b[0m\n",
      "\u001b[0;32m<ipython-input-20-f420c7a33123>\u001b[0m in \u001b[0;36munpickle\u001b[0;34m(file)\u001b[0m\n\u001b[1;32m      1\u001b[0m \u001b[0;32mdef\u001b[0m \u001b[0munpickle\u001b[0m\u001b[0;34m(\u001b[0m\u001b[0mfile\u001b[0m\u001b[0;34m)\u001b[0m\u001b[0;34m:\u001b[0m\u001b[0;34m\u001b[0m\u001b[0;34m\u001b[0m\u001b[0m\n\u001b[1;32m      2\u001b[0m     \u001b[0;32mimport\u001b[0m \u001b[0mpickle\u001b[0m\u001b[0;34m\u001b[0m\u001b[0;34m\u001b[0m\u001b[0m\n\u001b[0;32m----> 3\u001b[0;31m     \u001b[0;32mwith\u001b[0m \u001b[0mopen\u001b[0m\u001b[0;34m(\u001b[0m\u001b[0mfile\u001b[0m\u001b[0;34m,\u001b[0m \u001b[0;34m'rb'\u001b[0m\u001b[0;34m)\u001b[0m \u001b[0;32mas\u001b[0m \u001b[0mfo\u001b[0m\u001b[0;34m:\u001b[0m\u001b[0;34m\u001b[0m\u001b[0;34m\u001b[0m\u001b[0m\n\u001b[0m\u001b[1;32m      4\u001b[0m         \u001b[0mdict\u001b[0m \u001b[0;34m=\u001b[0m \u001b[0mpickle\u001b[0m\u001b[0;34m.\u001b[0m\u001b[0mload\u001b[0m\u001b[0;34m(\u001b[0m\u001b[0mfo\u001b[0m\u001b[0;34m,\u001b[0m \u001b[0mencoding\u001b[0m\u001b[0;34m=\u001b[0m\u001b[0;34m'bytes'\u001b[0m\u001b[0;34m)\u001b[0m\u001b[0;34m\u001b[0m\u001b[0;34m\u001b[0m\u001b[0m\n\u001b[1;32m      5\u001b[0m     \u001b[0;32mreturn\u001b[0m \u001b[0mdict\u001b[0m\u001b[0;34m\u001b[0m\u001b[0;34m\u001b[0m\u001b[0m\n",
      "\u001b[0;31mFileNotFoundError\u001b[0m: [Errno 2] No such file or directory: 'Colab Notebooks/cifar-10-batches-py/data_batch_1'"
     ]
    }
   ],
   "source": [
    "#Loading cifar-10 data and reshaping it to be batch_sizex32x32x3\n",
    "batch1=unpickle('Colab Notebooks/cifar-10-batches-py/data_batch_1')\n",
    "batch2=unpickle('cifar-10-batches-py/data_batch_2')\n",
    "batch3=unpickle('cifar-10-batches-py/data_batch_3')\n",
    "batch4=unpickle('cifar-10-batches-py/data_batch_4')\n",
    "batch5=unpickle('cifar-10-batches-py/data_batch_5')\n",
    "test_batch=unpickle('cifar-10-batches-py/test_batch')"
   ]
  },
  {
   "cell_type": "code",
   "execution_count": 0,
   "metadata": {
    "colab": {},
    "colab_type": "code",
    "id": "7WEgjrMUjK2M"
   },
   "outputs": [],
   "source": [
    "batch_size = 128\n",
    "num_classes = 10\n",
    "epochs = 20"
   ]
  },
  {
   "cell_type": "code",
   "execution_count": 11,
   "metadata": {
    "colab": {
     "base_uri": "https://localhost:8080/",
     "height": 51
    },
    "colab_type": "code",
    "executionInfo": {
     "elapsed": 68251,
     "status": "ok",
     "timestamp": 1548882081379,
     "user": {
      "displayName": "Yuchen He",
      "photoUrl": "",
      "userId": "17836836288676257850"
     },
     "user_tz": 300
    },
    "id": "LyyNgILsjOIK",
    "outputId": "1a187b9b-b2da-4a0e-fe29-6b796b9146bd"
   },
   "outputs": [
    {
     "name": "stdout",
     "output_type": "stream",
     "text": [
      "Downloading data from https://www.cs.toronto.edu/~kriz/cifar-10-python.tar.gz\n",
      "170500096/170498071 [==============================] - 65s 0us/step\n"
     ]
    }
   ],
   "source": [
    "# the data, split between train and test sets\n",
    "(x_train, y_train), (x_test, y_test) = cifar10.load_data()"
   ]
  },
  {
   "cell_type": "code",
   "execution_count": 13,
   "metadata": {
    "colab": {
     "base_uri": "https://localhost:8080/",
     "height": 51
    },
    "colab_type": "code",
    "executionInfo": {
     "elapsed": 1420,
     "status": "ok",
     "timestamp": 1548882130814,
     "user": {
      "displayName": "Yuchen He",
      "photoUrl": "",
      "userId": "17836836288676257850"
     },
     "user_tz": 300
    },
    "id": "No8Uds2GjRos",
    "outputId": "6e125379-24a3-44b7-b793-85bc5f4bec0d"
   },
   "outputs": [
    {
     "name": "stdout",
     "output_type": "stream",
     "text": [
      "50000 train samples\n",
      "10000 test samples\n"
     ]
    }
   ],
   "source": [
    "x_train = x_train.reshape(50000, 32*32*3)\n",
    "x_test = x_test.reshape(10000, 32*32*3)\n",
    "x_train = x_train.astype('float32')\n",
    "x_test = x_test.astype('float32')\n",
    "x_train /= 255\n",
    "x_test /= 255\n",
    "print(x_train.shape[0], 'train samples')\n",
    "print(x_test.shape[0], 'test samples')"
   ]
  },
  {
   "cell_type": "code",
   "execution_count": 0,
   "metadata": {
    "colab": {},
    "colab_type": "code",
    "id": "tGriptIMjU-A"
   },
   "outputs": [],
   "source": [
    "# convert class vectors to binary class matrices\n",
    "y_train = keras.utils.to_categorical(y_train, num_classes)\n",
    "y_test = keras.utils.to_categorical(y_test, num_classes)"
   ]
  },
  {
   "cell_type": "code",
   "execution_count": 0,
   "metadata": {
    "colab": {},
    "colab_type": "code",
    "id": "mh6sulF3jWhr"
   },
   "outputs": [],
   "source": [
    "model = Sequential()\n",
    "model.add(Dense(512, activation='relu', input_shape=(32*32*3,)))\n",
    "model.add(Dropout(0.2))\n",
    "model.add(Dense(512, activation='relu'))\n",
    "model.add(Dropout(0.2))\n",
    "model.add(Dense(num_classes, activation='softmax'))"
   ]
  },
  {
   "cell_type": "code",
   "execution_count": 17,
   "metadata": {
    "colab": {
     "base_uri": "https://localhost:8080/",
     "height": 306
    },
    "colab_type": "code",
    "executionInfo": {
     "elapsed": 294,
     "status": "ok",
     "timestamp": 1548882151377,
     "user": {
      "displayName": "Yuchen He",
      "photoUrl": "",
      "userId": "17836836288676257850"
     },
     "user_tz": 300
    },
    "id": "tcCdFiyqjYWy",
    "outputId": "d81d1d25-62ab-459c-a37a-9f98933a902b"
   },
   "outputs": [
    {
     "name": "stdout",
     "output_type": "stream",
     "text": [
      "_________________________________________________________________\n",
      "Layer (type)                 Output Shape              Param #   \n",
      "=================================================================\n",
      "dense_7 (Dense)              (None, 512)               1573376   \n",
      "_________________________________________________________________\n",
      "dropout_5 (Dropout)          (None, 512)               0         \n",
      "_________________________________________________________________\n",
      "dense_8 (Dense)              (None, 512)               262656    \n",
      "_________________________________________________________________\n",
      "dropout_6 (Dropout)          (None, 512)               0         \n",
      "_________________________________________________________________\n",
      "dense_9 (Dense)              (None, 10)                5130      \n",
      "=================================================================\n",
      "Total params: 1,841,162\n",
      "Trainable params: 1,841,162\n",
      "Non-trainable params: 0\n",
      "_________________________________________________________________\n"
     ]
    }
   ],
   "source": [
    "model.summary()"
   ]
  },
  {
   "cell_type": "code",
   "execution_count": 0,
   "metadata": {
    "colab": {},
    "colab_type": "code",
    "id": "G8JG9i1zjZV5"
   },
   "outputs": [],
   "source": [
    "model.compile(loss='categorical_crossentropy',\n",
    "              optimizer=RMSprop(),\n",
    "              metrics=['accuracy'])"
   ]
  },
  {
   "cell_type": "code",
   "execution_count": 19,
   "metadata": {
    "colab": {
     "base_uri": "https://localhost:8080/",
     "height": 748
    },
    "colab_type": "code",
    "executionInfo": {
     "elapsed": 384343,
     "status": "ok",
     "timestamp": 1548882542109,
     "user": {
      "displayName": "Yuchen He",
      "photoUrl": "",
      "userId": "17836836288676257850"
     },
     "user_tz": 300
    },
    "id": "XX3ZLqjcjaqd",
    "outputId": "188df8d3-535c-409a-9aca-dcf4c8c0599a"
   },
   "outputs": [
    {
     "name": "stdout",
     "output_type": "stream",
     "text": [
      "Train on 50000 samples, validate on 10000 samples\n",
      "Epoch 1/20\n",
      "50000/50000 [==============================] - 18s 356us/step - loss: 2.1583 - acc: 0.2509 - val_loss: 1.8355 - val_acc: 0.3435\n",
      "Epoch 2/20\n",
      "50000/50000 [==============================] - 18s 358us/step - loss: 1.8515 - acc: 0.3271 - val_loss: 1.7477 - val_acc: 0.3796\n",
      "Epoch 3/20\n",
      "50000/50000 [==============================] - 18s 358us/step - loss: 1.7833 - acc: 0.3581 - val_loss: 1.7472 - val_acc: 0.3698\n",
      "Epoch 4/20\n",
      "50000/50000 [==============================] - 18s 357us/step - loss: 1.7323 - acc: 0.3761 - val_loss: 1.6640 - val_acc: 0.4072\n",
      "Epoch 5/20\n",
      "50000/50000 [==============================] - 18s 363us/step - loss: 1.6944 - acc: 0.3911 - val_loss: 1.6033 - val_acc: 0.4338\n",
      "Epoch 6/20\n",
      "50000/50000 [==============================] - 18s 361us/step - loss: 1.6710 - acc: 0.4012 - val_loss: 1.6141 - val_acc: 0.4285\n",
      "Epoch 7/20\n",
      "50000/50000 [==============================] - 18s 361us/step - loss: 1.6455 - acc: 0.4109 - val_loss: 1.6103 - val_acc: 0.4428\n",
      "Epoch 8/20\n",
      "50000/50000 [==============================] - 18s 366us/step - loss: 1.6320 - acc: 0.4109 - val_loss: 1.5619 - val_acc: 0.4499\n",
      "Epoch 9/20\n",
      "50000/50000 [==============================] - 18s 363us/step - loss: 1.6136 - acc: 0.4250 - val_loss: 1.5426 - val_acc: 0.4562\n",
      "Epoch 10/20\n",
      "50000/50000 [==============================] - 20s 391us/step - loss: 1.5989 - acc: 0.4284 - val_loss: 1.5554 - val_acc: 0.4481\n",
      "Epoch 11/20\n",
      "50000/50000 [==============================] - 19s 376us/step - loss: 1.5903 - acc: 0.4307 - val_loss: 1.5360 - val_acc: 0.4573\n",
      "Epoch 12/20\n",
      "50000/50000 [==============================] - 20s 394us/step - loss: 1.5789 - acc: 0.4347 - val_loss: 1.5368 - val_acc: 0.4588\n",
      "Epoch 13/20\n",
      "50000/50000 [==============================] - 18s 365us/step - loss: 1.5716 - acc: 0.4372 - val_loss: 1.5807 - val_acc: 0.4360\n",
      "Epoch 14/20\n",
      "50000/50000 [==============================] - 18s 359us/step - loss: 1.5605 - acc: 0.4430 - val_loss: 1.5487 - val_acc: 0.4474\n",
      "Epoch 15/20\n",
      "50000/50000 [==============================] - 19s 374us/step - loss: 1.5554 - acc: 0.4469 - val_loss: 1.5114 - val_acc: 0.4687\n",
      "Epoch 16/20\n",
      "50000/50000 [==============================] - 19s 384us/step - loss: 1.5467 - acc: 0.4466 - val_loss: 1.4986 - val_acc: 0.4734\n",
      "Epoch 17/20\n",
      "50000/50000 [==============================] - 18s 366us/step - loss: 1.5384 - acc: 0.4503 - val_loss: 1.4816 - val_acc: 0.4848\n",
      "Epoch 18/20\n",
      "50000/50000 [==============================] - 24s 486us/step - loss: 1.5342 - acc: 0.4514 - val_loss: 1.5326 - val_acc: 0.4601\n",
      "Epoch 19/20\n",
      "50000/50000 [==============================] - 27s 535us/step - loss: 1.5267 - acc: 0.4553 - val_loss: 1.5404 - val_acc: 0.4487\n",
      "Epoch 20/20\n",
      "50000/50000 [==============================] - 18s 363us/step - loss: 1.5266 - acc: 0.4568 - val_loss: 1.4991 - val_acc: 0.4607\n",
      "Test loss: 1.4991359462738036\n",
      "Test accuracy: 0.4607\n"
     ]
    }
   ],
   "source": [
    "history = model.fit(x_train, y_train,\n",
    "                    batch_size=batch_size,\n",
    "                    epochs=epochs,\n",
    "                    verbose=1,\n",
    "                    validation_data=(x_test, y_test))\n",
    "score = model.evaluate(x_test, y_test, verbose=0)\n",
    "print('Test loss:', score[0])\n",
    "print('Test accuracy:', score[1])"
   ]
  },
  {
   "cell_type": "code",
   "execution_count": 0,
   "metadata": {
    "colab": {},
    "colab_type": "code",
    "id": "_yw-NeW_jePO"
   },
   "outputs": [],
   "source": []
  }
 ],
 "metadata": {
  "colab": {
   "name": "Cifar-10_MLP.ipynb",
   "provenance": [],
   "version": "0.3.2"
  },
  "kernelspec": {
   "display_name": "Python 3",
   "language": "python",
   "name": "python3"
  }
 },
 "nbformat": 4,
 "nbformat_minor": 1
}
