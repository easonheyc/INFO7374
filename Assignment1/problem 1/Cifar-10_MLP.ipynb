{
 "cells": [
  {
   "cell_type": "code",
   "execution_count": 89,
   "metadata": {
    "colab": {},
    "colab_type": "code",
    "id": "sgVnZog7i0BZ"
   },
   "outputs": [],
   "source": [
    "from __future__ import print_function\n",
    "\n",
    "import keras\n",
    "import numpy as np\n",
    "from keras.datasets import cifar10\n",
    "from keras.models import Sequential\n",
    "from keras.layers import Dense, Dropout\n",
    "from keras.optimizers import RMSprop"
   ]
  },
  {
   "cell_type": "code",
   "execution_count": 90,
   "metadata": {
    "colab": {},
    "colab_type": "code",
    "id": "9siECXhPnHoi"
   },
   "outputs": [],
   "source": [
    "def unpickle(file):\n",
    "    import pickle\n",
    "    with open(file, 'rb') as fo:\n",
    "        dict = pickle.load(fo, encoding='bytes')\n",
    "    return dict"
   ]
  },
  {
   "cell_type": "code",
   "execution_count": 91,
   "metadata": {
    "colab": {
     "base_uri": "https://localhost:8080/",
     "height": 350
    },
    "colab_type": "code",
    "executionInfo": {
     "elapsed": 337,
     "status": "error",
     "timestamp": 1548883740010,
     "user": {
      "displayName": "Yuchen He",
      "photoUrl": "",
      "userId": "17836836288676257850"
     },
     "user_tz": 300
    },
    "id": "OAjF3s_Wn-GQ",
    "outputId": "8c74b65c-1044-4f89-cbc4-3d5a637a2d19"
   },
   "outputs": [],
   "source": [
    "#Loading cifar-10 data and reshaping it to be batch_sizex32x32x3\n",
    "data_batch_1 = unpickle(\"cifar-10-batches-py/data_batch_1\")\n",
    "data_batch_2 = unpickle(\"cifar-10-batches-py/data_batch_2\")\n",
    "data_batch_3 = unpickle(\"cifar-10-batches-py/data_batch_3\")\n",
    "data_batch_4 = unpickle(\"cifar-10-batches-py/data_batch_4\")\n",
    "data_batch_5 = unpickle(\"cifar-10-batches-py/data_batch_5\")\n",
    "test_batch=unpickle('cifar-10-batches-py/test_batch')"
   ]
  },
  {
   "cell_type": "code",
   "execution_count": 92,
   "metadata": {},
   "outputs": [],
   "source": [
    "cifar10_rgb = np.concatenate((data_batch_1[b'data'],data_batch_2[b'data'],data_batch_3[b'data'],data_batch_4[b'data'],data_batch_5[b'data']))\n",
    "cifar10_labels = np.concatenate((data_batch_1[b'labels'],data_batch_2[b'labels'],data_batch_3[b'labels'],data_batch_4[b'labels'],data_batch_5[b'labels']))"
   ]
  },
  {
   "cell_type": "code",
   "execution_count": 93,
   "metadata": {},
   "outputs": [],
   "source": [
    "cifar10_test_rgb = test_batch[b'data']\n",
    "cirfar10_test_labels = test_batch[b'labels']"
   ]
  },
  {
   "cell_type": "code",
   "execution_count": 94,
   "metadata": {
    "colab": {},
    "colab_type": "code",
    "id": "7WEgjrMUjK2M"
   },
   "outputs": [],
   "source": [
    "# setup base epochs and batach_size\n",
    "batch_size = 64\n",
    "num_classes = 10\n",
    "epochs = 10"
   ]
  },
  {
   "cell_type": "code",
   "execution_count": 95,
   "metadata": {
    "colab": {
     "base_uri": "https://localhost:8080/",
     "height": 51
    },
    "colab_type": "code",
    "executionInfo": {
     "elapsed": 68251,
     "status": "ok",
     "timestamp": 1548882081379,
     "user": {
      "displayName": "Yuchen He",
      "photoUrl": "",
      "userId": "17836836288676257850"
     },
     "user_tz": 300
    },
    "id": "LyyNgILsjOIK",
    "outputId": "1a187b9b-b2da-4a0e-fe29-6b796b9146bd"
   },
   "outputs": [],
   "source": [
    "x_train, y_train, x_test, y_test = cifar10_rgb, cifar10_labels, cifar10_test_rgb, cirfar10_test_labels"
   ]
  },
  {
   "cell_type": "code",
   "execution_count": 96,
   "metadata": {
    "colab": {
     "base_uri": "https://localhost:8080/",
     "height": 51
    },
    "colab_type": "code",
    "executionInfo": {
     "elapsed": 1420,
     "status": "ok",
     "timestamp": 1548882130814,
     "user": {
      "displayName": "Yuchen He",
      "photoUrl": "",
      "userId": "17836836288676257850"
     },
     "user_tz": 300
    },
    "id": "No8Uds2GjRos",
    "outputId": "6e125379-24a3-44b7-b793-85bc5f4bec0d"
   },
   "outputs": [
    {
     "name": "stdout",
     "output_type": "stream",
     "text": [
      "50000 train samples\n",
      "10000 test samples\n"
     ]
    }
   ],
   "source": [
    "x_train = x_train.reshape(50000, 32*32*3)\n",
    "x_test = x_test.reshape(10000, 32*32*3)\n",
    "x_train = x_train.astype('float32')\n",
    "x_test = x_test.astype('float32')\n",
    "x_train /= 255\n",
    "x_test /= 255\n",
    "print(x_train.shape[0], 'train samples')\n",
    "print(x_test.shape[0], 'test samples')"
   ]
  },
  {
   "cell_type": "code",
   "execution_count": 97,
   "metadata": {
    "colab": {},
    "colab_type": "code",
    "id": "tGriptIMjU-A"
   },
   "outputs": [],
   "source": [
    "# convert class vectors to binary class matrices\n",
    "y_train = keras.utils.to_categorical(y_train, num_classes)\n",
    "y_test = keras.utils.to_categorical(y_test, num_classes)"
   ]
  },
  {
   "cell_type": "code",
   "execution_count": 98,
   "metadata": {
    "colab": {},
    "colab_type": "code",
    "id": "mh6sulF3jWhr"
   },
   "outputs": [],
   "source": [
    "model = Sequential()\n",
    "model.add(Dense(256, activation='elu', input_shape=(32*32*3,)))\n",
    "model.add(Dropout(0.3))\n",
    "model.add(Dense(256, activation='elu'))\n",
    "model.add(Dropout(0.3))\n",
    "model.add(Dense(256, activation='elu'))\n",
    "model.add(Dropout(0.3))\n",
    "model.add(Dense(256, activation='elu'))\n",
    "model.add(Dropout(0.3))\n",
    "model.add(Dense(num_classes, activation='softmax'))"
   ]
  },
  {
   "cell_type": "code",
   "execution_count": 99,
   "metadata": {
    "colab": {
     "base_uri": "https://localhost:8080/",
     "height": 306
    },
    "colab_type": "code",
    "executionInfo": {
     "elapsed": 294,
     "status": "ok",
     "timestamp": 1548882151377,
     "user": {
      "displayName": "Yuchen He",
      "photoUrl": "",
      "userId": "17836836288676257850"
     },
     "user_tz": 300
    },
    "id": "tcCdFiyqjYWy",
    "outputId": "d81d1d25-62ab-459c-a37a-9f98933a902b"
   },
   "outputs": [
    {
     "name": "stdout",
     "output_type": "stream",
     "text": [
      "_________________________________________________________________\n",
      "Layer (type)                 Output Shape              Param #   \n",
      "=================================================================\n",
      "dense_26 (Dense)             (None, 256)               786688    \n",
      "_________________________________________________________________\n",
      "dropout_19 (Dropout)         (None, 256)               0         \n",
      "_________________________________________________________________\n",
      "dense_27 (Dense)             (None, 256)               65792     \n",
      "_________________________________________________________________\n",
      "dropout_20 (Dropout)         (None, 256)               0         \n",
      "_________________________________________________________________\n",
      "dense_28 (Dense)             (None, 256)               65792     \n",
      "_________________________________________________________________\n",
      "dropout_21 (Dropout)         (None, 256)               0         \n",
      "_________________________________________________________________\n",
      "dense_29 (Dense)             (None, 256)               65792     \n",
      "_________________________________________________________________\n",
      "dropout_22 (Dropout)         (None, 256)               0         \n",
      "_________________________________________________________________\n",
      "dense_30 (Dense)             (None, 10)                2570      \n",
      "=================================================================\n",
      "Total params: 986,634\n",
      "Trainable params: 986,634\n",
      "Non-trainable params: 0\n",
      "_________________________________________________________________\n"
     ]
    }
   ],
   "source": [
    "model.summary()"
   ]
  },
  {
   "cell_type": "code",
   "execution_count": 100,
   "metadata": {
    "colab": {},
    "colab_type": "code",
    "id": "G8JG9i1zjZV5"
   },
   "outputs": [],
   "source": [
    "model.compile(loss='categorical_crossentropy',\n",
    "              optimizer=RMSprop(),\n",
    "              metrics=['accuracy'])"
   ]
  },
  {
   "cell_type": "code",
   "execution_count": null,
   "metadata": {
    "colab": {
     "base_uri": "https://localhost:8080/",
     "height": 748
    },
    "colab_type": "code",
    "executionInfo": {
     "elapsed": 384343,
     "status": "ok",
     "timestamp": 1548882542109,
     "user": {
      "displayName": "Yuchen He",
      "photoUrl": "",
      "userId": "17836836288676257850"
     },
     "user_tz": 300
    },
    "id": "XX3ZLqjcjaqd",
    "outputId": "188df8d3-535c-409a-9aca-dcf4c8c0599a"
   },
   "outputs": [
    {
     "name": "stdout",
     "output_type": "stream",
     "text": [
      "Train on 50000 samples, validate on 10000 samples\n",
      "Epoch 1/10\n",
      "50000/50000 [==============================] - 58s 1ms/step - loss: 2.2588 - acc: 0.2056 - val_loss: 2.0250 - val_acc: 0.2738\n",
      "Epoch 2/10\n",
      "50000/50000 [==============================] - 54s 1ms/step - loss: 1.9517 - acc: 0.2918 - val_loss: 1.8453 - val_acc: 0.3159\n",
      "Epoch 3/10\n",
      "50000/50000 [==============================] - 55s 1ms/step - loss: 1.8477 - acc: 0.3323 - val_loss: 1.8500 - val_acc: 0.3167\n",
      "Epoch 4/10\n",
      "50000/50000 [==============================] - 54s 1ms/step - loss: 1.8015 - acc: 0.3532 - val_loss: 1.9211 - val_acc: 0.3462 1.802 - ETA: 0s - loss: 1.8017 - acc: 0.353 - ETA: 0s - loss: 1.8014 - acc: 0.353\n",
      "Epoch 5/10\n",
      "50000/50000 [==============================] - 54s 1ms/step - loss: 1.7550 - acc: 0.3740 - val_loss: 1.6726 - val_acc: 0.3989\n",
      "Epoch 6/10\n",
      "50000/50000 [==============================] - 52s 1ms/step - loss: 1.7332 - acc: 0.3866 - val_loss: 1.6638 - val_acc: 0.3926\n",
      "Epoch 7/10\n",
      "50000/50000 [==============================] - 52s 1ms/step - loss: 1.7038 - acc: 0.3958 - val_loss: 1.6336 - val_acc: 0.4209\n",
      "Epoch 8/10\n",
      "50000/50000 [==============================] - 56s 1ms/step - loss: 1.6911 - acc: 0.3991 - val_loss: 1.5886 - val_acc: 0.4324\n",
      "Epoch 9/10\n",
      "50000/50000 [==============================] - 54s 1ms/step - loss: 1.6799 - acc: 0.4040 - val_loss: 1.6850 - val_acc: 0.3917\n",
      "Epoch 10/10\n",
      "30016/50000 [=================>............] - ETA: 20s - loss: 1.6581 - acc: 0.4112"
     ]
    }
   ],
   "source": [
    "history = model.fit(x_train, y_train,\n",
    "                    batch_size=batch_size,\n",
    "                    epochs=epochs,\n",
    "                    verbose=1,\n",
    "                    validation_data=(x_test, y_test))\n",
    "score = model.evaluate(x_test, y_test, verbose=0)\n",
    "print('Test loss:', score[0])\n",
    "print('Test accuracy:', score[1])"
   ]
  },
  {
   "cell_type": "code",
   "execution_count": null,
   "metadata": {
    "colab": {},
    "colab_type": "code",
    "id": "_yw-NeW_jePO"
   },
   "outputs": [],
   "source": []
  }
 ],
 "metadata": {
  "colab": {
   "name": "Cifar-10_MLP.ipynb",
   "provenance": [],
   "version": "0.3.2"
  },
  "kernelspec": {
   "display_name": "Python 3",
   "language": "python",
   "name": "python3"
  },
  "language_info": {
   "codemirror_mode": {
    "name": "ipython",
    "version": 3
   },
   "file_extension": ".py",
   "mimetype": "text/x-python",
   "name": "python",
   "nbconvert_exporter": "python",
   "pygments_lexer": "ipython3",
   "version": "3.6.3"
  }
 },
 "nbformat": 4,
 "nbformat_minor": 1
}
